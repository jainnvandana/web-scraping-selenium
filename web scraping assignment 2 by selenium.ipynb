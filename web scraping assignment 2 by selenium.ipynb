{
 "cells": [
  {
   "cell_type": "code",
   "execution_count": null,
   "metadata": {},
   "outputs": [],
   "source": [
    "import pandas as pd\n",
    "import selenium\n",
    "from selenium import webdriver"
   ]
  },
  {
   "cell_type": "markdown",
   "metadata": {},
   "source": [
    "# Question 1"
   ]
  },
  {
   "cell_type": "code",
   "execution_count": null,
   "metadata": {},
   "outputs": [],
   "source": [
    "driver = webdriver.Chrome (r\"E:\\chromedriver.exe\")\n",
    "driver.get(\"https://www.naukri.com/\")\n",
    "search_job = driver. find_element_by_id(\"qsb-keyword-sugg\")\n",
    "search_job.send_keys(\"Data Analyst\")\n",
    "search_loc = driver. find_element_by_xpath(\"//input[@id = 'qsb-location-sugg']\")\n",
    "search_loc.send_keys(\"Bangalore\")\n",
    "search_btn = driver.find_element_by_xpath(\"//div[@class = 'search-btn']/button\")\n",
    "search_btn.click()"
   ]
  },
  {
   "cell_type": "code",
   "execution_count": null,
   "metadata": {},
   "outputs": [],
   "source": [
    "xp=[\"//a[@class='title fw500 ellipsis']\", \n",
    "    \"//a[@class='subTitle ellipsis fleft']\", \n",
    "    \"//li[@class='fleft grey-text br2 placeHolderLi location']/span\",\n",
    "    \"//li[@class='fleft grey-text br2 placeHolderLi experience']/span\"]\n",
    "jobs_dict = {}\n",
    "jobs_dict[\"job_titles\"] = []\n",
    "jobs_dict[\"company_names\"] = []\n",
    "jobs_dict[\"locations_list\"] = []\n",
    "jobs_dict[\"experience_list\"] = []\n",
    "g=[jobs_dict[\"job_titles\"],jobs_dict[\"company_names\"],jobs_dict[\"locations_list\"], jobs_dict[\"experience_list\"]]\n",
    "x=0\n",
    "for url in xp: \n",
    "    tag=driver.find_elements_by_xpath(url)\n",
    "    for i in tag:\n",
    "        ttext=i.text\n",
    "        g[x].append(ttext)\n",
    "    x=x+1\n",
    "jobs_df = pd.DataFrame.from_dict(jobs_dict)\n",
    "jobs_df"
   ]
  },
  {
   "cell_type": "code",
   "execution_count": null,
   "metadata": {},
   "outputs": [],
   "source": [
    "driver.close()"
   ]
  },
  {
   "cell_type": "markdown",
   "metadata": {},
   "source": [
    "# Question 2"
   ]
  },
  {
   "cell_type": "code",
   "execution_count": null,
   "metadata": {},
   "outputs": [],
   "source": [
    "driver = webdriver.Chrome (r\"E:\\chromedriver.exe\")\n",
    "driver.get(\"https://www.naukri.com/\")\n",
    "search_job = driver. find_element_by_id(\"qsb-keyword-sugg\")\n",
    "search_job.send_keys(\"Data Scientist\")\n",
    "search_loc = driver. find_element_by_xpath(\"//input[@id = 'qsb-location-sugg']\")\n",
    "search_loc.send_keys(\"Bangalore\")\n",
    "search_btn = driver.find_element_by_xpath(\"//div[@class = 'search-btn']/button\")\n",
    "search_btn.click()"
   ]
  },
  {
   "cell_type": "code",
   "execution_count": null,
   "metadata": {},
   "outputs": [],
   "source": [
    "xp=[\"//a[@class='title fw500 ellipsis']\", \n",
    "    \"//a[@class='subTitle ellipsis fleft']\", \n",
    "    \"//li[@class='fleft grey-text br2 placeHolderLi location']/span\"]\n",
    "jobs_dict = {}\n",
    "jobs_dict[\"job_titles\"] = []\n",
    "jobs_dict[\"company_names\"] = []\n",
    "jobs_dict[\"locations_list\"] = []\n",
    "jobs_dict[\"description\"] = []\n",
    "g=[jobs_dict[\"job_titles\"],jobs_dict[\"company_names\"],jobs_dict[\"locations_list\"]]\n",
    "x=0\n",
    "for url in xp: \n",
    "    tag=driver.find_elements_by_xpath(url)\n",
    "    for i in tag:\n",
    "        ttext=i.text\n",
    "        g[x].append(ttext)\n",
    "    x=x+1\n",
    "hre=[]\n",
    "urls=driver.find_elements_by_xpath(\"//a[@class='title fw500 ellipsis']\")\n",
    "for i in urls:\n",
    "    h=i.get_attribute('href')\n",
    "    hre.append(h)\n",
    "des=[]\n",
    "for a in hre:\n",
    "    driver.get(a)\n",
    "    xt=driver.find_elements_by_xpath(\"//section[@class='job-desc']\")    \n",
    "    for j in xt:\n",
    "        tt=j.text\n",
    "        des.append(tt)    \n",
    "jobs_dict[\"description\"] = des"
   ]
  },
  {
   "cell_type": "code",
   "execution_count": null,
   "metadata": {},
   "outputs": [],
   "source": [
    "print(len(jobs_dict[\"job_titles\"]),len(jobs_dict[\"company_names\"]),len(jobs_dict[\"locations_list\"]),len(jobs_dict[\"description\"]))"
   ]
  },
  {
   "cell_type": "code",
   "execution_count": null,
   "metadata": {},
   "outputs": [],
   "source": [
    "#problem in saving\n",
    "jobs1_df = pd.DataFrame.from_dict(jobs_dict)\n",
    "jobs1_df"
   ]
  },
  {
   "cell_type": "code",
   "execution_count": null,
   "metadata": {},
   "outputs": [],
   "source": [
    "driver.close()"
   ]
  },
  {
   "cell_type": "markdown",
   "metadata": {},
   "source": [
    "# Question 3"
   ]
  },
  {
   "cell_type": "code",
   "execution_count": null,
   "metadata": {},
   "outputs": [],
   "source": [
    "driver = webdriver.Chrome (r\"E:\\chromedriver.exe\")\n",
    "driver.get(\"https://www.naukri.com/\")\n",
    "\n",
    "search_job = driver. find_element_by_id(\"qsb-keyword-sugg\")\n",
    "search_job.send_keys(\"Data Scientist\")\n",
    "\n",
    "search_btn = driver.find_element_by_xpath(\"//div[@class = 'search-btn']/button\")\n",
    "search_btn.click()"
   ]
  },
  {
   "cell_type": "code",
   "execution_count": null,
   "metadata": {},
   "outputs": [],
   "source": [
    "#filter done mannually"
   ]
  },
  {
   "cell_type": "code",
   "execution_count": null,
   "metadata": {},
   "outputs": [],
   "source": [
    "xp=[\"//a[@class='title fw500 ellipsis']\", \n",
    "    \"//a[@class='subTitle ellipsis fleft']\", \n",
    "    \"//li[@class='fleft grey-text br2 placeHolderLi experience']/span\"]\n",
    "jobs_dict = {}\n",
    "jobs_dict[\"job_titles\"] = []\n",
    "jobs_dict[\"company_names\"] = []\n",
    "jobs_dict[\"experience_list\"] = []\n",
    "jobs_dict[\"description\"] = []\n",
    "g=[jobs_dict[\"job_titles\"],jobs_dict[\"company_names\"],jobs_dict[\"experience_list\"]]\n",
    "x=0\n",
    "for url in xp: \n",
    "    tag=driver.find_elements_by_xpath(url)\n",
    "    for i in tag:\n",
    "        ttext=i.text\n",
    "        g[x].append(ttext)\n",
    "    x=x+1\n",
    "hre=[]\n",
    "urls=driver.find_elements_by_xpath(\"//a[@class='title fw500 ellipsis']\")\n",
    "for i in urls:\n",
    "    h=i.get_attribute('href')\n",
    "    hre.append(h)\n",
    "des=[]\n",
    "for a in hre:\n",
    "    driver.get(a)\n",
    "    xt=driver.find_elements_by_xpath(\"//section[@class='job-desc']\")    \n",
    "    for j in xt:\n",
    "        tt=j.text\n",
    "        des.append(tt)    \n",
    "jobs_dict[\"description\"] = des"
   ]
  },
  {
   "cell_type": "code",
   "execution_count": null,
   "metadata": {},
   "outputs": [],
   "source": [
    "print(len(jobs_dict[\"job_titles\"]),len(jobs_dict[\"company_names\"]),len(jobs_dict[\"experience_list\"]),len(jobs_dict[\"description\"]))"
   ]
  },
  {
   "cell_type": "code",
   "execution_count": null,
   "metadata": {},
   "outputs": [],
   "source": [
    "#problem in saving\n",
    "jobs2_df = pd.DataFrame.from_dict(jobs_dict)\n",
    "jobs2_df"
   ]
  },
  {
   "cell_type": "code",
   "execution_count": null,
   "metadata": {},
   "outputs": [],
   "source": [
    "driver.close()"
   ]
  },
  {
   "cell_type": "markdown",
   "metadata": {},
   "source": [
    "# Question 4"
   ]
  },
  {
   "cell_type": "code",
   "execution_count": null,
   "metadata": {},
   "outputs": [],
   "source": [
    "#login"
   ]
  },
  {
   "cell_type": "code",
   "execution_count": null,
   "metadata": {},
   "outputs": [],
   "source": [
    "driver = webdriver.Chrome (r\"E:\\chromedriver.exe\")\n",
    "driver.get(\"https://www.glassdoor.co.in/index.htm/\")"
   ]
  },
  {
   "cell_type": "code",
   "execution_count": null,
   "metadata": {},
   "outputs": [],
   "source": [
    "search_btn = driver.find_element_by_xpath(\"//div[@class = 'mt-xsm']/button\")\n",
    "search_btn.click()"
   ]
  },
  {
   "cell_type": "raw",
   "metadata": {},
   "source": [
    "login issue\n",
    "\n",
    "search_loc = driver.find_elements_by_xpath(\"//input[@id = 'identifierId']\")\n",
    "search_loc.send_keys(\"jain.vandana.bu\")\n",
    "search_bt = driver.find_element_by_xpath(\"//div[@class = 'VfPpkd-dgl2Hf-ppHlrf-sM5MNb']/button\")\n",
    "search_bt.click()\n",
    "#<div jsname=\"YRMmle\" class=\"AxOyFc snByac\" aria-hidden=\"true\">Email or phone</div>"
   ]
  },
  {
   "cell_type": "code",
   "execution_count": null,
   "metadata": {},
   "outputs": [],
   "source": [
    "search_job = driver. find_element_by_id(\"sc.keyword\")\n",
    "search_job.send_keys(\"Data Scientist\")\n",
    "search_loc = driver. find_element_by_xpath(\"//input[@id ='sc.location']\")\n",
    "search_loc.send_keys(\"Noida\")\n",
    "search_btn = driver.find_element_by_xpath(\"//div[@class = 'gd-ui-button ml-std col-auto SearchStyles__newSearchButton css-iixdfr']/button\")\n",
    "search_btn.click()"
   ]
  },
  {
   "cell_type": "code",
   "execution_count": null,
   "metadata": {},
   "outputs": [],
   "source": [
    "xp=[\"//a[@class='jobInfoItem jobTitle css-13w0lq6 eigr9kq1 jobLink']/span\", \n",
    "    \"//div[@class='jobHeader d-flex justify-content-between align-items-start']/span\", \n",
    "    \"//span[@class='loc css-nq3w9f pr-xxsm']\"]\n",
    "jobs_dict = {}\n",
    "jobs_dict[\"job_titles\"] = []\n",
    "jobs_dict[\"company_names\"] = []\n",
    "jobs_dict[\"locations_list\"] = []\n",
    "\n",
    "g=[jobs_dict[\"job_titles\"],jobs_dict[\"company_names\"],jobs_dict[\"locations_list\"]]\n",
    "x=0\n",
    "for url in xp: \n",
    "    tag=driver.find_elements_by_xpath(url)\n",
    "    for i in tag:\n",
    "        ttext=i.text\n",
    "        g[x].append(ttext)\n",
    "    x=x+1"
   ]
  },
  {
   "cell_type": "code",
   "execution_count": null,
   "metadata": {},
   "outputs": [],
   "source": [
    "#saving problem\n",
    "jobs3_df = pd.DataFrame.from_dict(jobs_dict)\n",
    "jobs3_df"
   ]
  },
  {
   "cell_type": "code",
   "execution_count": null,
   "metadata": {},
   "outputs": [],
   "source": [
    "driver.close()"
   ]
  },
  {
   "cell_type": "markdown",
   "metadata": {},
   "source": [
    "# Question 5"
   ]
  },
  {
   "cell_type": "code",
   "execution_count": null,
   "metadata": {},
   "outputs": [],
   "source": [
    "driver = webdriver.Chrome (r\"E:\\chromedriver.exe\")\n",
    "driver.get(\"https://www.glassdoor.co.in/Salaries/index.htm/\")"
   ]
  },
  {
   "cell_type": "code",
   "execution_count": null,
   "metadata": {},
   "outputs": [],
   "source": [
    "search_job = driver. find_element_by_xpath(\"//input[@id = 'KeywordSearch']\")\n",
    "search_job.send_keys(\"Data Scientist\")\n",
    "search_loc = driver. find_element_by_xpath(\"//input[@class ='loc']\")\n",
    "search_loc.send_keys(\"Noida\").replace(\"New Delhi\")\n",
    "search_btn = driver.find_element_by_xpath(\"//button[@class = 'gd-btn-mkt']\")\n",
    "search_btn.click()\n"
   ]
  },
  {
   "cell_type": "code",
   "execution_count": null,
   "metadata": {},
   "outputs": [],
   "source": [
    "#cant replace new delhi to noida n unlock the add review to go on page"
   ]
  },
  {
   "cell_type": "code",
   "execution_count": null,
   "metadata": {},
   "outputs": [],
   "source": [
    "driver.close"
   ]
  },
  {
   "cell_type": "markdown",
   "metadata": {},
   "source": [
    "# Question 6"
   ]
  },
  {
   "cell_type": "code",
   "execution_count": null,
   "metadata": {},
   "outputs": [],
   "source": [
    "driver = webdriver.Chrome (r\"E:\\chromedriver.exe\")\n",
    "driver.get(\"https://www.flipkart.com/\")"
   ]
  },
  {
   "cell_type": "code",
   "execution_count": null,
   "metadata": {},
   "outputs": [],
   "source": [
    "search_job = driver. find_element_by_xpath(\"//input[@class= '_3704LK']\")\n",
    "search_job.send_keys(\"sunglasses\")\n",
    "\n",
    "search_btn = driver.find_element_by_xpath(\"//button[@class = 'L0Z3Pu']\")\n",
    "search_btn.click()"
   ]
  },
  {
   "cell_type": "code",
   "execution_count": null,
   "metadata": {},
   "outputs": [],
   "source": [
    "sg_dict = {}\n",
    "sg_dict[\"Brand\"] = [] \n",
    "sg_dict[\"Product1\"] = []\n",
    "sg_dict[\"Product2\"] = []\n",
    "sg_dict[\"Price\"] = []\n",
    "sg_dict[\"Discount\"] = []\n",
    "sg_dict[\"Product\"] =[]\n",
    "for i in range(0,3):\n",
    "    xp=[\"//div[@class='_2WkVRV']\",\"//a[@class='IRpwTa']\",\"//a[@class='IRpwTa _2-ICcC']\", \"//div[@class='_30jeq3']\",\"//div[@class='_3Ay6Sb']/span\"]\n",
    "    g=[sg_dict[\"Brand\"],sg_dict[\"Product1\"],sg_dict[\"Product2\"] ,sg_dict[\"Price\"], sg_dict[\"Discount\"]]\n",
    "    x=0\n",
    "    for url in xp: \n",
    "        tag=driver.find_elements_by_xpath(url)\n",
    "        for i in tag:\n",
    "            ttext=i.text\n",
    "            g[x].append(ttext)\n",
    "        x=x+1\n",
    "    lin = driver.find_element_by_xpath(\"//a[@class = '_1LKTO3']/span\").get_attribute('href')\n",
    "    driver.get(lin)\n",
    "    sg_dict[\"Product\"]=sg_dict[\"Product1\"]+sg_dict[\"Product2\"]"
   ]
  },
  {
   "cell_type": "code",
   "execution_count": null,
   "metadata": {},
   "outputs": [],
   "source": [
    "print(len(sg_dict[\"Brand\"]),len(sg_dict[\"Product1\"]),len(sg_dict[\"Product2\"]),len(sg_dict[\"Price\"]),len(sg_dict[\"Discount\"]),len(sg_dict[\"Product\"]))"
   ]
  },
  {
   "cell_type": "code",
   "execution_count": null,
   "metadata": {},
   "outputs": [],
   "source": [
    "#problem in saving\n",
    "sg_df = pd.DataFrame.from_dict(sg_dict)\n",
    "sg_df"
   ]
  },
  {
   "cell_type": "code",
   "execution_count": null,
   "metadata": {},
   "outputs": [],
   "source": [
    "driver.close()"
   ]
  },
  {
   "cell_type": "markdown",
   "metadata": {},
   "source": [
    "# Question 7"
   ]
  },
  {
   "cell_type": "code",
   "execution_count": null,
   "metadata": {},
   "outputs": [],
   "source": [
    "driver = webdriver.Chrome (r\"E:\\chromedriver.exe\")\n",
    "driver.get(\"https://www.flipkart.com/apple-iphone-11-black-64-gb-includes-earpods-power-adapter/p/itm0f37c2240b217?pid=MOBFKCTSVZAXUHGR&lid=LSTMOBFKCTSVZAXUHGREPBFGI&marketplace\")"
   ]
  },
  {
   "cell_type": "code",
   "execution_count": null,
   "metadata": {},
   "outputs": [],
   "source": [
    "link = driver.find_element_by_xpath(\"//div[@class= 'col JOpGWq']/a\").get_attribute('href')\n",
    "driver.get(link)"
   ]
  },
  {
   "cell_type": "code",
   "execution_count": null,
   "metadata": {},
   "outputs": [],
   "source": [
    "rw_dict = {}\n",
    "rw_dict[\"rating\"] = [] \n",
    "rw_dict[\"review\"] = []\n",
    "rw_dict[\"full_review\"] = []\n",
    "\n",
    "for i in range(0,10):\n",
    "    xp=[\"//div[@class='_3LWZlK _1BLPMq']\",\"//p[@class='_2-N8zT']\", \"//div[@class='t-ZTKy']\"]\n",
    "    g=[rw_dict[\"rating\"],rw_dict[\"review\"],rw_dict[\"full_review\"]]\n",
    "    x=0\n",
    "    for url in xp: \n",
    "        tag=driver.find_elements_by_xpath(url)\n",
    "        for i in tag:\n",
    "            ttext=i.text\n",
    "            g[x].append(ttext)\n",
    "        x=x+1\n",
    "    lin= driver.find_element_by_xpath(\"//a[@class = '_1LKTO3']\").get_attribute('href')\n",
    "    driver.get(lin)"
   ]
  },
  {
   "cell_type": "code",
   "execution_count": null,
   "metadata": {},
   "outputs": [],
   "source": [
    "print(len(rw_dict[\"rating\"]),len(rw_dict[\"review\"]),len(rw_dict[\"full_review\"]))"
   ]
  },
  {
   "cell_type": "code",
   "execution_count": null,
   "metadata": {},
   "outputs": [],
   "source": [
    "#problem in saving\n",
    "rw_df = pd.DataFrame.from_dict(rw_dict)\n",
    "rw_df"
   ]
  },
  {
   "cell_type": "code",
   "execution_count": null,
   "metadata": {},
   "outputs": [],
   "source": [
    "driver.close()"
   ]
  },
  {
   "cell_type": "markdown",
   "metadata": {},
   "source": [
    "# Question 8"
   ]
  },
  {
   "cell_type": "code",
   "execution_count": null,
   "metadata": {},
   "outputs": [],
   "source": [
    "driver = webdriver.Chrome (r\"E:\\chromedriver.exe\")\n",
    "driver.get(\"https://www.flipkart.com/\")\n",
    "\n",
    "search_job = driver. find_element_by_xpath(\"//input[@class= '_3704LK']\")\n",
    "search_job.send_keys(\"sneakers\")\n",
    "\n",
    "search_btn = driver.find_element_by_xpath(\"//button[@class = 'L0Z3Pu']\")\n",
    "search_btn.click()"
   ]
  },
  {
   "cell_type": "code",
   "execution_count": null,
   "metadata": {},
   "outputs": [],
   "source": [
    "sk_dict = {}\n",
    "sk_dict[\"Brand\"] = [] \n",
    "sk_dict[\"Product1\"] = []\n",
    "sk_dict[\"Product2\"] = []\n",
    "sk_dict[\"Price\"] = []\n",
    "sk_dict[\"Discount\"] = []\n",
    "sk_dict[\"Product\"] =[]\n",
    "for i in range(0,3):\n",
    "    xp=[\"//div[@class='_2WkVRV']\",\"//a[@class='IRpwTa']\",\"//a[@class='IRpwTa _2-ICcC']\", \"//div[@class='_30jeq3']\",\"//div[@class='_3Ay6Sb']/span\"]\n",
    "    g=[sk_dict[\"Brand\"],sk_dict[\"Product1\"],sk_dict[\"Product2\"] ,sk_dict[\"Price\"], sk_dict[\"Discount\"]]\n",
    "    x=0\n",
    "    for url in xp: \n",
    "        tag=driver.find_elements_by_xpath(url)\n",
    "        for i in tag:\n",
    "            ttext=i.text\n",
    "            g[x].append(ttext)\n",
    "        x=x+1\n",
    "    lin= driver.find_element_by_xpath(\"//a[@class = '_1LKTO3']/span\").get_attribute('href')\n",
    "    driver.get(lin)\n",
    "    sk_dict[\"Product\"]=sk_dict[\"Product1\"]+sk_dict[\"Product2\"]"
   ]
  },
  {
   "cell_type": "code",
   "execution_count": null,
   "metadata": {},
   "outputs": [],
   "source": [
    "print(len(sk_dict[\"Brand\"]),len(sk_dict[\"Product1\"]),len(sk_dict[\"Product2\"]),len(sk_dict[\"Price\"]),len(sk_dict[\"Discount\"]),len(sk_dict[\"Product\"]))"
   ]
  },
  {
   "cell_type": "code",
   "execution_count": null,
   "metadata": {},
   "outputs": [],
   "source": [
    "#problem in saving\n",
    "sk_df = pd.DataFrame.from_dict(sk_dict)\n",
    "sk_df"
   ]
  },
  {
   "cell_type": "code",
   "execution_count": null,
   "metadata": {},
   "outputs": [],
   "source": [
    "driver.close()"
   ]
  },
  {
   "cell_type": "markdown",
   "metadata": {},
   "source": [
    "# Question 9"
   ]
  },
  {
   "cell_type": "code",
   "execution_count": null,
   "metadata": {},
   "outputs": [],
   "source": [
    "driver = webdriver.Chrome (r\"E:\\chromedriver.exe\")\n",
    "driver.get(\"https://www.myntra.com/shoes\")"
   ]
  },
  {
   "cell_type": "code",
   "execution_count": null,
   "metadata": {},
   "outputs": [],
   "source": [
    "#filter problem"
   ]
  },
  {
   "cell_type": "code",
   "execution_count": null,
   "metadata": {},
   "outputs": [],
   "source": [
    "pr_dict = {}\n",
    "pr_dict[\"brand\"] = [] \n",
    "pr_dict[\"review\"] = []\n",
    "pr_dict[\"price\"] = []\n",
    "\n",
    "for i in range(0,2):\n",
    "    xp=[\"//div[@class='product-productMetaInfo']/h3\",\"//h4[@class='product-product']\", \"//div[@class='product-price']\"]\n",
    "    g=[pr_dict[\"brand\"],pr_dict[\"review\"],pr_dict[\"price\"]]\n",
    "    x=0\n",
    "    for url in xp: \n",
    "        tag=driver.find_elements_by_xpath(url)\n",
    "        for i in tag:\n",
    "            ttext=i.text\n",
    "            g[x].append(ttext)\n",
    "        x=x+1\n",
    "    lin= driver.find_element_by_xpath(\"//a[@rel = 'next']\").get_attribute('href')\n",
    "    driver.get(lin)"
   ]
  },
  {
   "cell_type": "code",
   "execution_count": null,
   "metadata": {},
   "outputs": [],
   "source": [
    "print(len(pr_dict[\"brand\"]),len(pr_dict[\"review\"]),len(pr_dict[\"price\"]))"
   ]
  },
  {
   "cell_type": "code",
   "execution_count": null,
   "metadata": {},
   "outputs": [],
   "source": [
    "#problem in saving\n",
    "pr_df = pd.DataFrame.from_dict(pr_dict)\n",
    "pr_df"
   ]
  },
  {
   "cell_type": "code",
   "execution_count": null,
   "metadata": {},
   "outputs": [],
   "source": [
    "driver.close()"
   ]
  },
  {
   "cell_type": "markdown",
   "metadata": {},
   "source": [
    "# Question 10"
   ]
  },
  {
   "cell_type": "code",
   "execution_count": null,
   "metadata": {},
   "outputs": [],
   "source": [
    "driver = webdriver.Chrome (r\"E:\\chromedriver.exe\")\n",
    "driver.get(\"https://www.amazon.in\")\n",
    "\n",
    "search_job = driver. find_element_by_xpath(\"//input[@id= 'twotabsearchtextbox']\")\n",
    "search_job.send_keys(\"laptop\")\n",
    "\n",
    "search_btn = driver.find_element_by_xpath(\"//div[@class='nav-search-submit nav-sprite']\")\n",
    "search_btn.click()"
   ]
  },
  {
   "cell_type": "code",
   "execution_count": null,
   "metadata": {},
   "outputs": [],
   "source": [
    "#filter"
   ]
  },
  {
   "cell_type": "code",
   "execution_count": null,
   "metadata": {},
   "outputs": [],
   "source": [
    "pr_dict = {}\n",
    "pr_dict[\"title\"] = [] \n",
    "pr_dict[\"rating\"] = []\n",
    "pr_dict[\"price\"] = []\n",
    "\n",
    "for i in range(0,5):\n",
    "    xp=[\"//span[@class='a-size-medium a-color-base a-text-normal']\" ,\"//span[@class='a-icon-alt']\" , \"//span[@class='a-price-whole']\"]\n",
    "    g=[pr_dict[\"title\"],pr_dict[\"rating\"],pr_dict[\"price\"]]\n",
    "    x=0\n",
    "    for url in xp: \n",
    "        tag=driver.find_elements_by_xpath(url)\n",
    "        for i in tag:\n",
    "            ttext=i.text\n",
    "            if ttext==\"\":\n",
    "                ttext= 0\n",
    "            g[x].append(ttext)\n",
    "        x=x+1\n",
    "    lin= driver.find_element_by_xpath(\"//li[@class = 'a-last']/a\").get_attribute('href')\n",
    "    driver.get(lin)"
   ]
  },
  {
   "cell_type": "code",
   "execution_count": null,
   "metadata": {},
   "outputs": [],
   "source": [
    "print(len(pr_dict[\"title\"]),len(pr_dict[\"rating\"]),len(pr_dict[\"price\"]))"
   ]
  },
  {
   "cell_type": "code",
   "execution_count": null,
   "metadata": {},
   "outputs": [],
   "source": [
    "#problem in saving\n",
    "prl_df = pd.DataFrame.from_dict(pr_dict)\n",
    "prl_df"
   ]
  },
  {
   "cell_type": "code",
   "execution_count": null,
   "metadata": {},
   "outputs": [],
   "source": [
    "driver.close()"
   ]
  }
 ],
 "metadata": {
  "kernelspec": {
   "display_name": "Python 3",
   "language": "python",
   "name": "python3"
  },
  "language_info": {
   "codemirror_mode": {
    "name": "ipython",
    "version": 3
   },
   "file_extension": ".py",
   "mimetype": "text/x-python",
   "name": "python",
   "nbconvert_exporter": "python",
   "pygments_lexer": "ipython3",
   "version": "3.8.3"
  }
 },
 "nbformat": 4,
 "nbformat_minor": 4
}
